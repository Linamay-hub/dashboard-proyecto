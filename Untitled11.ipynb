{
  "nbformat": 4,
  "nbformat_minor": 0,
  "metadata": {
    "colab": {
      "provenance": [],
      "authorship_tag": "ABX9TyN3JC7o/zg1/+JpLOPtj2Ho",
      "include_colab_link": true
    },
    "kernelspec": {
      "name": "python3",
      "display_name": "Python 3"
    },
    "language_info": {
      "name": "python"
    }
  },
  "cells": [
    {
      "cell_type": "markdown",
      "metadata": {
        "id": "view-in-github",
        "colab_type": "text"
      },
      "source": [
        "<a href=\"https://colab.research.google.com/github/Linamay-hub/dashboard-proyecto/blob/main/Untitled11.ipynb\" target=\"_parent\"><img src=\"https://colab.research.google.com/assets/colab-badge.svg\" alt=\"Open In Colab\"/></a>"
      ]
    },
    {
      "cell_type": "code",
      "execution_count": 12,
      "metadata": {
        "colab": {
          "base_uri": "https://localhost:8080/"
        },
        "id": "wEv2n5hULmfH",
        "outputId": "e17df14e-7c74-4edb-fa5e-d309bfdb7f25"
      },
      "outputs": [
        {
          "output_type": "stream",
          "name": "stdout",
          "text": [
            "Requirement already satisfied: youtube-comment-downloader in /usr/local/lib/python3.11/dist-packages (0.1.76)\n",
            "Requirement already satisfied: dateparser in /usr/local/lib/python3.11/dist-packages (from youtube-comment-downloader) (1.2.1)\n",
            "Requirement already satisfied: requests in /usr/local/lib/python3.11/dist-packages (from youtube-comment-downloader) (2.32.3)\n",
            "Requirement already satisfied: python-dateutil>=2.7.0 in /usr/local/lib/python3.11/dist-packages (from dateparser->youtube-comment-downloader) (2.8.2)\n",
            "Requirement already satisfied: pytz>=2024.2 in /usr/local/lib/python3.11/dist-packages (from dateparser->youtube-comment-downloader) (2025.2)\n",
            "Requirement already satisfied: regex!=2019.02.19,!=2021.8.27,>=2015.06.24 in /usr/local/lib/python3.11/dist-packages (from dateparser->youtube-comment-downloader) (2024.11.6)\n",
            "Requirement already satisfied: tzlocal>=0.2 in /usr/local/lib/python3.11/dist-packages (from dateparser->youtube-comment-downloader) (5.3.1)\n",
            "Requirement already satisfied: charset-normalizer<4,>=2 in /usr/local/lib/python3.11/dist-packages (from requests->youtube-comment-downloader) (3.4.1)\n",
            "Requirement already satisfied: idna<4,>=2.5 in /usr/local/lib/python3.11/dist-packages (from requests->youtube-comment-downloader) (3.10)\n",
            "Requirement already satisfied: urllib3<3,>=1.21.1 in /usr/local/lib/python3.11/dist-packages (from requests->youtube-comment-downloader) (2.3.0)\n",
            "Requirement already satisfied: certifi>=2017.4.17 in /usr/local/lib/python3.11/dist-packages (from requests->youtube-comment-downloader) (2025.1.31)\n",
            "Requirement already satisfied: six>=1.5 in /usr/local/lib/python3.11/dist-packages (from python-dateutil>=2.7.0->dateparser->youtube-comment-downloader) (1.17.0)\n"
          ]
        }
      ],
      "source": [
        "!pip install youtube-comment-downloader"
      ]
    },
    {
      "cell_type": "code",
      "source": [
        "from youtube_comment_downloader import YoutubeCommentDownloader\n",
        "import pandas as pd\n",
        "from google.colab import files\n",
        "\n",
        "# Crear la instancia del downloader\n",
        "downloader = YoutubeCommentDownloader()\n",
        "\n",
        "# ID del video de YouTube (asegúrate de tener el ID correcto)\n",
        "video_id = \"1LwNGTcF5n8\"  # Aquí pones el ID del video que deseas analizar\n",
        "\n",
        "# Limitar la cantidad de comentarios\n",
        "comentarios_limitados = 10  # Cambiar a 10 comentarios\n",
        "\n",
        "try:\n",
        "    print(\"Iniciando la descarga de comentarios...\")\n",
        "\n",
        "    # Descargar los comentarios limitados\n",
        "    comments = list(downloader.get_comments(video_id))[:comentarios_limitados]\n",
        "\n",
        "    print(f\"Comentarios obtenidos: {len(comments)}\")\n",
        "\n",
        "    # Si se obtuvieron comentarios, mostrarlos\n",
        "    if comments:\n",
        "        print(\"Comentarios descargados con éxito.\")\n",
        "        for i, comment in enumerate(comments[:comentarios_limitados]):\n",
        "            print(f\"{i+1}. Autor: {comment['author']}, Comentario: {comment['text']}\")\n",
        "\n",
        "        # Convertir los comentarios a un DataFrame de Pandas\n",
        "        df = pd.DataFrame(comments)\n",
        "\n",
        "        # Guardar los comentarios en un archivo CSV\n",
        "        df.to_csv(\"comentarios_youtube.csv\", index=False)\n",
        "\n",
        "        print(\"Archivo CSV creado. Iniciando descarga...\")\n",
        "\n",
        "        # Descargar el archivo CSV\n",
        "        files.download(\"comentarios_youtube.csv\")\n",
        "    else:\n",
        "        print(\"No se encontraron comentarios.\")\n",
        "\n",
        "except Exception as e:\n",
        "    print(f\"Ocurrió un error: {e}\")"
      ],
      "metadata": {
        "colab": {
          "base_uri": "https://localhost:8080/",
          "height": 433
        },
        "id": "XvuFXQF8OybM",
        "outputId": "838a1709-ac48-4f71-9685-10b42f4525c2"
      },
      "execution_count": 13,
      "outputs": [
        {
          "output_type": "stream",
          "name": "stdout",
          "text": [
            "Iniciando la descarga de comentarios...\n",
            "Comentarios obtenidos: 10\n",
            "Comentarios descargados con éxito.\n",
            "1. Autor: @DeTranquis, Comentario: 🟢 Puedes comprarlos al mejor precio aquí: https://amzn.to/48ynZxo\n",
            "\n",
            "🟢 Enlace a Xiaomi España: https://tidd.ly/400HtJB\n",
            "\n",
            "🟢 También disponibles en Pc Componentes: https://tidd.ly/46FTo0w\n",
            "\n",
            "💳💳 Nuestro canal de Telegram con las mejores ofertas diarias en auriculares, relojes inteligentes y altavoces: https://t.me/ChollosDeTranquis\n",
            "2. Autor: @askewmars9824, Comentario: Me encantó tú review!, tengo pensado comprarmelos, me parecen muy buenos, gracias por la información!!\n",
            "3. Autor: @nastassjaandreadelvallelar193, Comentario: Holaaa, entre éstos y los realme buds 6 air, ¿Cuál prefieres?\n",
            "4. Autor: @Flor-ze1qq, Comentario: Hola! Muy buen video ❤ Estoy en duda entre este modelo y los JBL Wave Buds y JBL Vibe Beam. \n",
            "En mi país están todos al mismo valor y me gustaría comprar el mejor entre ellos\n",
            "5. Autor: @AlejandroAndia-d9k, Comentario: Disculpa cuales recomendarias estos o los redmi t310?\n",
            "6. Autor: @pedrorosas6121, Comentario: Una pregunta, peferis los redmi buds 5 o los soundcore p20!?\n",
            "7. Autor: @BananaQueso, Comentario: Una duda, de volumen que tal estan, es cierto que les hace falta?\n",
            "8. Autor: @Miguel-x2d, Comentario: Hola, yo queria hacer una pregunta, por que ya me a pasado con algunos auriculares, y es que cuando termino de usarlos los pongo dentro de la base de carga y a veces e notado que como si se descompensaran, por ejm, veo que uno tiene un 70% y el otro un 50%, los e reiniciado y se han vuelto a poner bien, pero e visto en algunos videos que no es muy recomendable ponerlos en la base carga cuando terminas de usarlos, y queria saber si eso es cierto o no, gracias. Saludos.\n",
            "9. Autor: @santopecador8721, Comentario: Ya los compre hace 6 dias y todo bien con la cancelación de ruido los bajos y los graves me encantan...\n",
            "10. Autor: @TheGaturri, Comentario: Mala costumbre de comprar las cosas y después ver los reviews pero menos mal que fue buena compra jajaja XD\n",
            "Archivo CSV creado. Iniciando descarga...\n"
          ]
        },
        {
          "output_type": "display_data",
          "data": {
            "text/plain": [
              "<IPython.core.display.Javascript object>"
            ],
            "application/javascript": [
              "\n",
              "    async function download(id, filename, size) {\n",
              "      if (!google.colab.kernel.accessAllowed) {\n",
              "        return;\n",
              "      }\n",
              "      const div = document.createElement('div');\n",
              "      const label = document.createElement('label');\n",
              "      label.textContent = `Downloading \"${filename}\": `;\n",
              "      div.appendChild(label);\n",
              "      const progress = document.createElement('progress');\n",
              "      progress.max = size;\n",
              "      div.appendChild(progress);\n",
              "      document.body.appendChild(div);\n",
              "\n",
              "      const buffers = [];\n",
              "      let downloaded = 0;\n",
              "\n",
              "      const channel = await google.colab.kernel.comms.open(id);\n",
              "      // Send a message to notify the kernel that we're ready.\n",
              "      channel.send({})\n",
              "\n",
              "      for await (const message of channel.messages) {\n",
              "        // Send a message to notify the kernel that we're ready.\n",
              "        channel.send({})\n",
              "        if (message.buffers) {\n",
              "          for (const buffer of message.buffers) {\n",
              "            buffers.push(buffer);\n",
              "            downloaded += buffer.byteLength;\n",
              "            progress.value = downloaded;\n",
              "          }\n",
              "        }\n",
              "      }\n",
              "      const blob = new Blob(buffers, {type: 'application/binary'});\n",
              "      const a = document.createElement('a');\n",
              "      a.href = window.URL.createObjectURL(blob);\n",
              "      a.download = filename;\n",
              "      div.appendChild(a);\n",
              "      a.click();\n",
              "      div.remove();\n",
              "    }\n",
              "  "
            ]
          },
          "metadata": {}
        },
        {
          "output_type": "display_data",
          "data": {
            "text/plain": [
              "<IPython.core.display.Javascript object>"
            ],
            "application/javascript": [
              "download(\"download_7cae4b6e-3c04-4b69-a645-8ffe7d51141b\", \"comentarios_youtube.csv\", 3978)"
            ]
          },
          "metadata": {}
        }
      ]
    }
  ]
}