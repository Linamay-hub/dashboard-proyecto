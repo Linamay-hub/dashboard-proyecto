{
  "nbformat": 4,
  "nbformat_minor": 0,
  "metadata": {
    "colab": {
      "provenance": [],
      "authorship_tag": "ABX9TyN/dWIF3eOIunTnUkMFwdHM",
      "include_colab_link": true
    },
    "kernelspec": {
      "name": "python3",
      "display_name": "Python 3"
    },
    "language_info": {
      "name": "python"
    }
  },
  "cells": [
    {
      "cell_type": "markdown",
      "metadata": {
        "id": "view-in-github",
        "colab_type": "text"
      },
      "source": [
        "<a href=\"https://colab.research.google.com/github/Linamay-hub/dashboard-proyecto/blob/main/eleccioncarrera.ipynb\" target=\"_parent\"><img src=\"https://colab.research.google.com/assets/colab-badge.svg\" alt=\"Open In Colab\"/></a>"
      ]
    },
    {
      "cell_type": "code",
      "source": [
        "import pandas as pd\n",
        "import numpy as np\n",
        "import statsmodels.api as sm\n",
        "from sklearn.preprocessing import MinMaxScaler\n",
        "\n",
        "# Fijamos una semilla para que los resultados aleatorios puedan reproducirse\n",
        "np.random.seed(42)\n",
        "\n",
        "# Cantidad de estudiantes simulados\n",
        "n = 120\n",
        "\n",
        "# Generamos aleatoriamente las variables base\n",
        "genero = np.random.choice([0, 1], size=n)  # 0 = masculino, 1 = femenino\n",
        "calificaciones = np.random.normal(loc=80, scale=10, size=n).clip(60, 100).astype(int)  # promedio entre 60 y 100\n",
        "interes_ciencias = np.random.randint(0, 11, size=n)       # interés de 0 a 10\n",
        "interes_humanidades = np.random.randint(0, 11, size=n)\n",
        "interes_artes = np.random.randint(0, 11, size=n)\n",
        "\n",
        "# Creamos un DataFrame con los datos simulados\n",
        "df = pd.DataFrame({\n",
        "    'Genero': genero,\n",
        "    'Calificaciones': calificaciones,\n",
        "    'Ciencias': interes_ciencias,\n",
        "    'Humanidades': interes_humanidades,\n",
        "    'Artes': interes_artes\n",
        "})\n",
        "\n",
        "# Calculamos probabilidades de elección de carrera, basadas en el interés relativo de cada estudiante\n",
        "probs = df[['Ciencias', 'Humanidades', 'Artes']].astype(float)\n",
        "probs_sum = probs.sum(axis=1).replace(0, 1e-6)  # evitamos división por cero\n",
        "normalized_probs = probs.div(probs_sum, axis=0)  # normalizamos para que sumen 1\n",
        "\n",
        "# Asignamos la elección de carrera de forma aleatoria pero influenciada por el interés\n",
        "df['Eleccion'] = [\n",
        "    np.random.choice([1, 2, 3], p=normalized_probs.iloc[i].values)\n",
        "    for i in range(len(df))\n",
        "]\n",
        "# Elección: 1 = Ciencias, 2 = Humanidades, 3 = Artes\n",
        "\n",
        "# Variables independientes para el modelo\n",
        "X = df[['Genero', 'Calificaciones', 'Ciencias', 'Humanidades', 'Artes']]\n",
        "y = df['Eleccion']  # variable dependiente (respuesta)\n",
        "\n",
        "# Escalamos las variables para mejorar la estabilidad del modelo\n",
        "scaler = MinMaxScaler()\n",
        "X_scaled = scaler.fit_transform(X)\n",
        "\n",
        "# Añadimos una constante (necesaria para el modelo estadístico)\n",
        "X_scaled = sm.add_constant(X_scaled)\n",
        "\n",
        "# Creamos el modelo Logit Multinomial usando statsmodels\n",
        "modelo = sm.MNLogit(y, X_scaled)\n",
        "\n",
        "# Ajustamos el modelo a los datos\n",
        "resultado = modelo.fit()\n",
        "\n",
        "# Mostramos el resumen del modelo (coeficientes, significancia, etc.)\n",
        "print(resultado.summary())"
      ],
      "metadata": {
        "colab": {
          "base_uri": "https://localhost:8080/"
        },
        "id": "7GrjbIaNxObF",
        "outputId": "68384993-83d7-4d6f-e843-637ca55462bf"
      },
      "execution_count": 10,
      "outputs": [
        {
          "output_type": "stream",
          "name": "stdout",
          "text": [
            "Optimization terminated successfully.\n",
            "         Current function value: 0.896689\n",
            "         Iterations 6\n",
            "                          MNLogit Regression Results                          \n",
            "==============================================================================\n",
            "Dep. Variable:               Eleccion   No. Observations:                  120\n",
            "Model:                        MNLogit   Df Residuals:                      108\n",
            "Method:                           MLE   Df Model:                           10\n",
            "Date:                Thu, 29 May 2025   Pseudo R-squ.:                  0.1805\n",
            "Time:                        02:00:28   Log-Likelihood:                -107.60\n",
            "converged:                       True   LL-Null:                       -131.30\n",
            "Covariance Type:            nonrobust   LLR p-value:                 7.996e-07\n",
            "==============================================================================\n",
            "Eleccion=2       coef    std err          z      P>|z|      [0.025      0.975]\n",
            "------------------------------------------------------------------------------\n",
            "const         -0.1636      0.972     -0.168      0.866      -2.068       1.741\n",
            "x1            -0.4792      0.541     -0.886      0.376      -1.540       0.581\n",
            "x2             0.0239      1.201      0.020      0.984      -2.331       2.379\n",
            "x3            -2.3510      0.895     -2.627      0.009      -4.105      -0.597\n",
            "x4             3.7030      0.928      3.991      0.000       1.885       5.522\n",
            "x5            -1.0253      0.939     -1.092      0.275      -2.865       0.814\n",
            "------------------------------------------------------------------------------\n",
            "Eleccion=3       coef    std err          z      P>|z|      [0.025      0.975]\n",
            "------------------------------------------------------------------------------\n",
            "const         -0.1509      0.914     -0.165      0.869      -1.942       1.640\n",
            "x1            -0.5341      0.493     -1.083      0.279      -1.500       0.432\n",
            "x2            -0.7021      1.087     -0.646      0.518      -2.832       1.427\n",
            "x3            -1.6446      0.791     -2.080      0.038      -3.194      -0.095\n",
            "x4             0.8915      0.818      1.090      0.276      -0.712       2.495\n",
            "x5             2.4652      0.851      2.898      0.004       0.798       4.132\n",
            "==============================================================================\n"
          ]
        }
      ]
    },
    {
      "cell_type": "code",
      "source": [
        "import pandas as pd\n",
        "from scipy.stats import ttest_ind\n",
        "\n",
        "# Datos (resumen de tus 35 registros en un DataFrame)\n",
        "datos = {\n",
        "    'Genero': [1,0,1,1,0,0,1,1,0,0,1,1,0,0,1,1,0,1,0,1,1,0,0,1,0,1,1,0,1,1,0,0,1,0,1],\n",
        "    'Calificaciones': [79,88,72,93,68,85,76,90,71,79,84,73,89,67,91,85,78,92,65,88,70,95,75,82,60,70,74,77,83,86,69,61,80,63,87],\n",
        "    'Ciencias': [6,7,5,8,4,6,5,7,5,6,7,5,8,4,7,8,6,9,5,7,4,8,5,7,4,4,6,5,7,8,3,2,5,3,7],\n",
        "    'Humanidades': [5,3,6,2,7,4,6,3,5,4,3,6,2,7,3,4,7,3,8,4,6,3,7,5,8,6,4,7,3,4,8,9,6,9,4],\n",
        "    'Artes': [1,4,0,5,0,3,0,4,1,2,3,1,4,0,5,2,1,4,0,3,0,5,2,1,0,2,1,2,4,4,2,1,3,1,5],\n",
        "    'Eleccion': [2,1,2,1,2,1,2,1,3,3,3,2,1,2,1,1,2,1,2,1,2,1,2,3,3,2,2,2,1,1,2,3,3,3,1]\n",
        "}\n",
        "\n",
        "df = pd.DataFrame(datos)\n",
        "\n",
        "# Filtramos calificaciones por elección\n",
        "humanidades = df[df['Eleccion'] == 2]['Calificaciones']\n",
        "artes = df[df['Eleccion'] == 3]['Calificaciones']\n",
        "\n",
        "# Prueba t\n",
        "t_stat, p_value = ttest_ind(humanidades, artes, equal_var=False)\n",
        "\n",
        "# Resultados\n",
        "print(f\"Promedio Humanidades: {humanidades.mean():.2f}\")\n",
        "print(f\"Promedio Artes: {artes.mean():.2f}\")\n",
        "print(f\"Valor t: {t_stat:.3f}\")\n",
        "print(f\"Valor p: {p_value:.4f}\")\n",
        "\n",
        "# Interpretación\n",
        "if p_value < 0.05:\n",
        "    print(\"✅ Hay una diferencia significativa entre las calificaciones de Humanidades y Artes.\")\n",
        "else:\n",
        "    print(\"❌ No hay una diferencia significativa entre las calificaciones de Humanidades y Artes.\")"
      ],
      "metadata": {
        "colab": {
          "base_uri": "https://localhost:8080/"
        },
        "id": "REye9svsEOvX",
        "outputId": "63a329fe-1946-444c-db58-ed96e162ea74"
      },
      "execution_count": 12,
      "outputs": [
        {
          "output_type": "stream",
          "name": "stdout",
          "text": [
            "Promedio Humanidades: 72.36\n",
            "Promedio Artes: 72.50\n",
            "Valor t: -0.038\n",
            "Valor p: 0.9703\n",
            "❌ No hay una diferencia significativa entre las calificaciones de Humanidades y Artes.\n"
          ]
        }
      ]
    }
  ]
}